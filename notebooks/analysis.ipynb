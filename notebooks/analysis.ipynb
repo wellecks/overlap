{
 "cells": [
  {
   "cell_type": "markdown",
   "id": "global-brush",
   "metadata": {},
   "source": [
    "## Dataset overlap analysis\n",
    "\n",
    "This notebook computes hit statistics, accuracy on hits vs. non-hits, and provides a tool for visual inspection of hits."
   ]
  },
  {
   "cell_type": "code",
   "execution_count": 1,
   "id": "therapeutic-cooperation",
   "metadata": {},
   "outputs": [
    {
     "name": "stdout",
     "output_type": "stream",
     "text": [
      "Populating the interactive namespace from numpy and matplotlib\n"
     ]
    }
   ],
   "source": [
    "%pylab inline\n",
    "\n",
    "import os\n",
    "import pandas as pd\n",
    "import json\n",
    "import glob\n",
    "from collections import Counter, defaultdict\n",
    "pd.set_option('display.max_colwidth', None)"
   ]
  },
  {
   "cell_type": "code",
   "execution_count": 2,
   "id": "important-league",
   "metadata": {},
   "outputs": [],
   "source": [
    "def hit_stats(hits):\n",
    "    example_ctr = Counter()\n",
    "    for hit in hits:\n",
    "        example_ctr[hit['test_id']] += 1\n",
    "    unique_docs = set([hit['text'] for hit in hits])\n",
    "    stats = {\n",
    "        'unique_test_examples_with_hits': len(example_ctr),\n",
    "        'unique_docs_with_hits': len(unique_docs),\n",
    "        'num_hits': len(hits),\n",
    "        'test_example_hit_counts': list(example_ctr.most_common())\n",
    "    }\n",
    "    return stats"
   ]
  },
  {
   "cell_type": "markdown",
   "id": "affecting-louisiana",
   "metadata": {},
   "source": [
    "## Hit statistics"
   ]
  },
  {
   "cell_type": "code",
   "execution_count": 4,
   "id": "confused-italy",
   "metadata": {},
   "outputs": [
    {
     "data": {
      "text/html": [
       "<div>\n",
       "<style scoped>\n",
       "    .dataframe tbody tr th:only-of-type {\n",
       "        vertical-align: middle;\n",
       "    }\n",
       "\n",
       "    .dataframe tbody tr th {\n",
       "        vertical-align: top;\n",
       "    }\n",
       "\n",
       "    .dataframe thead th {\n",
       "        text-align: right;\n",
       "    }\n",
       "</style>\n",
       "<table border=\"1\" class=\"dataframe\">\n",
       "  <thead>\n",
       "    <tr style=\"text-align: right;\">\n",
       "      <th></th>\n",
       "      <th>file</th>\n",
       "      <th>unique_test_examples_with_hits</th>\n",
       "      <th>unique_docs_with_hits</th>\n",
       "    </tr>\n",
       "  </thead>\n",
       "  <tbody>\n",
       "    <tr>\n",
       "      <th>0</th>\n",
       "      <td>open-web-math_open-web-math-v1.2_MATH_input_hits_30.json</td>\n",
       "      <td>348</td>\n",
       "      <td>717</td>\n",
       "    </tr>\n",
       "    <tr>\n",
       "      <th>1</th>\n",
       "      <td>open-web-math_open-web-math-v1.2_MATH_output_hits_30.json</td>\n",
       "      <td>34</td>\n",
       "      <td>46</td>\n",
       "    </tr>\n",
       "    <tr>\n",
       "      <th>2</th>\n",
       "      <td>mathstack_MATH_input_hits_30.json</td>\n",
       "      <td>3</td>\n",
       "      <td>3</td>\n",
       "    </tr>\n",
       "    <tr>\n",
       "      <th>3</th>\n",
       "      <td>mathstack_MATH_output_hits_30.json</td>\n",
       "      <td>1</td>\n",
       "      <td>1</td>\n",
       "    </tr>\n",
       "    <tr>\n",
       "      <th>4</th>\n",
       "      <td>open-web-math_open-web-math-v1.2_gsm8k_input_hits_30.json</td>\n",
       "      <td>2</td>\n",
       "      <td>3</td>\n",
       "    </tr>\n",
       "    <tr>\n",
       "      <th>5</th>\n",
       "      <td>open-web-math_open-web-math-v1.2_gsm8k_output_hits_30.json</td>\n",
       "      <td>0</td>\n",
       "      <td>0</td>\n",
       "    </tr>\n",
       "    <tr>\n",
       "      <th>6</th>\n",
       "      <td>mathstack_gsm8k_input_hits_30.json</td>\n",
       "      <td>0</td>\n",
       "      <td>0</td>\n",
       "    </tr>\n",
       "    <tr>\n",
       "      <th>7</th>\n",
       "      <td>mathstack_gsm8k_output_hits_30.json</td>\n",
       "      <td>0</td>\n",
       "      <td>0</td>\n",
       "    </tr>\n",
       "    <tr>\n",
       "      <th>8</th>\n",
       "      <td>open-web-math-v1.2_llemma7b_MATH_generations_hits_30.json</td>\n",
       "      <td>13</td>\n",
       "      <td>437</td>\n",
       "    </tr>\n",
       "  </tbody>\n",
       "</table>\n",
       "</div>"
      ],
      "text/plain": [
       "                                                         file  \\\n",
       "0    open-web-math_open-web-math-v1.2_MATH_input_hits_30.json   \n",
       "1   open-web-math_open-web-math-v1.2_MATH_output_hits_30.json   \n",
       "2                           mathstack_MATH_input_hits_30.json   \n",
       "3                          mathstack_MATH_output_hits_30.json   \n",
       "4   open-web-math_open-web-math-v1.2_gsm8k_input_hits_30.json   \n",
       "5  open-web-math_open-web-math-v1.2_gsm8k_output_hits_30.json   \n",
       "6                          mathstack_gsm8k_input_hits_30.json   \n",
       "7                         mathstack_gsm8k_output_hits_30.json   \n",
       "8   open-web-math-v1.2_llemma7b_MATH_generations_hits_30.json   \n",
       "\n",
       "   unique_test_examples_with_hits  unique_docs_with_hits  \n",
       "0                             348                    717  \n",
       "1                              34                     46  \n",
       "2                               3                      3  \n",
       "3                               1                      1  \n",
       "4                               2                      3  \n",
       "5                               0                      0  \n",
       "6                               0                      0  \n",
       "7                               0                      0  \n",
       "8                              13                    437  "
      ]
     },
     "execution_count": 4,
     "metadata": {},
     "output_type": "execute_result"
    }
   ],
   "source": [
    "output_directory = '../output/llemma'\n",
    "\n",
    "output_files = [\n",
    "    # MATH\n",
    "    'open-web-math_open-web-math-v1.2_MATH_input_hits_30.json',\n",
    "    'open-web-math_open-web-math-v1.2_MATH_output_hits_30.json',\n",
    "    'mathstack_MATH_input_hits_30.json',\n",
    "    'mathstack_MATH_output_hits_30.json',\n",
    "    # GSM8k\n",
    "    'open-web-math_open-web-math-v1.2_gsm8k_input_hits_30.json',\n",
    "    'open-web-math_open-web-math-v1.2_gsm8k_output_hits_30.json',\n",
    "    'mathstack_gsm8k_input_hits_30.json',\n",
    "    'mathstack_gsm8k_output_hits_30.json',\n",
    "    # Model generations\n",
    "    'open-web-math-v1.2_llemma7b_MATH_generations_hits_30.json'\n",
    "]\n",
    "\n",
    "df_data = []\n",
    "for output_file in output_files:\n",
    "    hits = [json.loads(x) for x in open(os.path.join(output_directory, output_file), 'r').readlines()]\n",
    "    stats = hit_stats(hits)\n",
    "    \n",
    "    df_data.append({\n",
    "        'file': output_file.split('/')[-1],\n",
    "        'unique_test_examples_with_hits': stats['unique_test_examples_with_hits'],\n",
    "        'unique_docs_with_hits': stats['unique_docs_with_hits'],\n",
    "    })\n",
    "\n",
    "df = pd.DataFrame(df_data)\n",
    "df"
   ]
  },
  {
   "cell_type": "markdown",
   "id": "alternate-acoustic",
   "metadata": {},
   "source": [
    "## Evaluation on hits vs. non-hits"
   ]
  },
  {
   "cell_type": "code",
   "execution_count": 6,
   "id": "rapid-creek",
   "metadata": {},
   "outputs": [
    {
     "name": "stdout",
     "output_type": "stream",
     "text": [
      "Unique hit inputs: 367\n"
     ]
    }
   ],
   "source": [
    "hits_file = 'open-web-math_open-web-math-v1.2_MATH_input_hits_30.json'\n",
    "hits = [json.loads(x) for x in open(os.path.join(output_directory, hits_file), 'r').readlines()]\n",
    "\n",
    "hits_file = 'open-web-math_open-web-math-v1.2_MATH_output_hits_30.json'\n",
    "hits += [json.loads(x) for x in open(os.path.join(output_directory, hits_file), 'r').readlines()]\n",
    "\n",
    "output_json = 'llemma_34b_minerva_math_maj1.json'\n",
    "outputs = json.load(open(os.path.join(output_directory, output_json)))\n",
    "\n",
    "hit_inputs = set([hit['input'] for hit in hits])\n",
    "print(\"Unique hit inputs: %d\" % len(hit_inputs))"
   ]
  },
  {
   "cell_type": "code",
   "execution_count": 7,
   "id": "boxed-marketing",
   "metadata": {},
   "outputs": [
    {
     "data": {
      "text/html": [
       "<style type=\"text/css\">\n",
       "</style>\n",
       "<table id=\"T_60078_\">\n",
       "  <thead>\n",
       "    <tr>\n",
       "      <th class=\"blank level0\" >&nbsp;</th>\n",
       "      <th class=\"col_heading level0 col0\" >level</th>\n",
       "      <th class=\"col_heading level0 col1\" >hit_acc</th>\n",
       "      <th class=\"col_heading level0 col2\" >nonhit_acc</th>\n",
       "      <th class=\"col_heading level0 col3\" >n_hits</th>\n",
       "    </tr>\n",
       "  </thead>\n",
       "  <tbody>\n",
       "    <tr>\n",
       "      <th id=\"T_60078_level0_row0\" class=\"row_heading level0 row0\" >0</th>\n",
       "      <td id=\"T_60078_row0_col0\" class=\"data row0 col0\" >Level 1</td>\n",
       "      <td id=\"T_60078_row0_col1\" class=\"data row0 col1\" >72.73%</td>\n",
       "      <td id=\"T_60078_row0_col2\" class=\"data row0 col2\" >61.50%</td>\n",
       "      <td id=\"T_60078_row0_col3\" class=\"data row0 col3\" >11.0</td>\n",
       "    </tr>\n",
       "    <tr>\n",
       "      <th id=\"T_60078_level0_row1\" class=\"row_heading level0 row1\" >1</th>\n",
       "      <td id=\"T_60078_row1_col0\" class=\"data row1 col0\" >Level 2</td>\n",
       "      <td id=\"T_60078_row1_col1\" class=\"data row1 col1\" >35.71%</td>\n",
       "      <td id=\"T_60078_row1_col2\" class=\"data row1 col2\" >40.18%</td>\n",
       "      <td id=\"T_60078_row1_col3\" class=\"data row1 col3\" >28.0</td>\n",
       "    </tr>\n",
       "    <tr>\n",
       "      <th id=\"T_60078_level0_row2\" class=\"row_heading level0 row2\" >2</th>\n",
       "      <td id=\"T_60078_row2_col0\" class=\"data row2 col0\" >Level 3</td>\n",
       "      <td id=\"T_60078_row2_col1\" class=\"data row2 col1\" >30.36%</td>\n",
       "      <td id=\"T_60078_row2_col2\" class=\"data row2 col2\" >26.88%</td>\n",
       "      <td id=\"T_60078_row2_col3\" class=\"data row2 col3\" >56.0</td>\n",
       "    </tr>\n",
       "    <tr>\n",
       "      <th id=\"T_60078_level0_row3\" class=\"row_heading level0 row3\" >3</th>\n",
       "      <td id=\"T_60078_row3_col0\" class=\"data row3 col0\" >Level 4</td>\n",
       "      <td id=\"T_60078_row3_col1\" class=\"data row3 col1\" >14.89%</td>\n",
       "      <td id=\"T_60078_row3_col2\" class=\"data row3 col2\" >16.61%</td>\n",
       "      <td id=\"T_60078_row3_col3\" class=\"data row3 col3\" >94.0</td>\n",
       "    </tr>\n",
       "    <tr>\n",
       "      <th id=\"T_60078_level0_row4\" class=\"row_heading level0 row4\" >4</th>\n",
       "      <td id=\"T_60078_row4_col0\" class=\"data row4 col0\" >Level 5</td>\n",
       "      <td id=\"T_60078_row4_col1\" class=\"data row4 col1\" >6.08%</td>\n",
       "      <td id=\"T_60078_row4_col2\" class=\"data row4 col2\" >6.39%</td>\n",
       "      <td id=\"T_60078_row4_col3\" class=\"data row4 col3\" >181.0</td>\n",
       "    </tr>\n",
       "  </tbody>\n",
       "</table>\n"
      ],
      "text/plain": [
       "<pandas.io.formats.style.Styler at 0x7fe818175c10>"
      ]
     },
     "execution_count": 7,
     "metadata": {},
     "output_type": "execute_result"
    }
   ],
   "source": [
    "stats = defaultdict(float)\n",
    "\n",
    "levels = set()\n",
    "for task, cache in outputs['cache'].items():    \n",
    "    for item in cache:\n",
    "        assert item['acc'] in {0, 1}        \n",
    "        levels.add(item['level'])\n",
    "\n",
    "        # Accuracy for hit problems\n",
    "        if item['problem'] in hit_inputs:\n",
    "            stats['level%s_hit_acc' % item['level']] += item['acc']\n",
    "            stats['level%s_hit_n' % item['level']] += 1\n",
    "            \n",
    "            stats['hit_acc'] += item['acc']\n",
    "            stats['hit_n'] += 1\n",
    "            \n",
    "        # Accuracy for non-hit problems\n",
    "        else:\n",
    "            stats['level%s_nonhit_acc' % item['level']] += item['acc']\n",
    "            stats['level%s_nonhit_n' % item['level']] += 1\n",
    "            \n",
    "            stats['nonhit_acc'] += item['acc']\n",
    "            stats['nonhit_n'] += 1\n",
    "\n",
    "# Normalize\n",
    "for level in levels:\n",
    "    stats['level%s_hit_acc' % level] = stats['level%s_hit_acc' % level] / stats['level%s_hit_n' % level]\n",
    "    stats['level%s_nonhit_acc' % level] = stats['level%s_nonhit_acc' % level] / stats['level%s_nonhit_n' % level]\n",
    "\n",
    "df_data = []\n",
    "for level in sorted(levels):\n",
    "    df_data.append({\n",
    "        'level': level, \n",
    "        'hit_acc': stats['level%s_hit_acc' % level],\n",
    "        'nonhit_acc': stats['level%s_nonhit_acc' % level],\n",
    "        'n_hits': stats['level%s_hit_n' % level],\n",
    "    })\n",
    "\n",
    "pd.options.display.float_format = '{:.2%}'.format\n",
    "df = pd.DataFrame(df_data).round(4)\n",
    "df_ = df.style.format({\n",
    "    'hit_acc': '{:.2%}'.format,\n",
    "    'nonhit_acc': '{:.2%}'.format,\n",
    "    'n_hits': '{:}'.format,\n",
    "})\n",
    "df_"
   ]
  },
  {
   "cell_type": "markdown",
   "id": "neutral-spider",
   "metadata": {},
   "source": [
    "## Visual inspection\n",
    "\n"
   ]
  },
  {
   "cell_type": "code",
   "execution_count": 8,
   "id": "cooked-puppy",
   "metadata": {},
   "outputs": [],
   "source": [
    "output_file = os.path.join(output_directory, 'open-web-math_open-web-math-v1.2_MATH_input_hits_30.json')"
   ]
  },
  {
   "cell_type": "code",
   "execution_count": 9,
   "id": "cheap-horizon",
   "metadata": {},
   "outputs": [
    {
     "data": {
      "application/vnd.jupyter.widget-view+json": {
       "model_id": "43aba5e48c4e405ebc44e52fedb44230",
       "version_major": 2,
       "version_minor": 0
      },
      "text/plain": [
       "interactive(children=(IntSlider(value=0, description='idx', max=716), Output()), _dom_classes=('widget-interac…"
      ]
     },
     "metadata": {},
     "output_type": "display_data"
    }
   ],
   "source": [
    "import ipywidgets as widgets\n",
    "from ipywidgets import HBox, VBox\n",
    "import numpy as np\n",
    "import matplotlib.pyplot as plt\n",
    "from IPython.display import display, Markdown, Latex\n",
    "\n",
    "hits = [json.loads(x) for x in open(output_file, 'r').readlines()]\n",
    "stats = hit_stats(hits)\n",
    "\n",
    "def match(seq1, seq2):\n",
    "    idx = seq1.find(seq2)\n",
    "    # NOTE: this visualization is occasionally unreliable, e.g. when the span\n",
    "    # occurs inside of latex. Therefore, be sure to double check the raw sequence.\n",
    "    return seq1[:idx] + '<span style=\"color: red;\">' + seq1[idx:idx+len(seq2)] + '</span>' + seq1[idx+len(seq2):]\n",
    "    \n",
    "def template(hit):\n",
    "    md = \"\"\"### Hit\n",
    "%s\n",
    "\n",
    "### URL\n",
    "%s\n",
    "\n",
    "### Text\n",
    "%s\n",
    "\n",
    "\n",
    "\n",
    "#### Test id: %d\n",
    "\n",
    "#### Input\n",
    "%s\n",
    "\n",
    "#### Output\n",
    "%s\n",
    "\"\"\" % (hit['hits'][1]['ngram'], \n",
    "       hit['url'], \n",
    "       match(hit['text'], hit['hits'][1]['ngram']), \n",
    "       hit['id'], hit['input'], hit['output'])\n",
    "    return md\n",
    "\n",
    "\n",
    "items = hits\n",
    "\n",
    "@widgets.interact(idx=(0, len(items)-1))\n",
    "def f(idx=0):\n",
    "    num_hits = [x for x in stats['test_example_hit_counts'] if x[0] == hits[idx]['id']][0]\n",
    "    print(num_hits)\n",
    "    display(Markdown(template(hits[idx])))    "
   ]
  },
  {
   "cell_type": "code",
   "execution_count": null,
   "id": "continental-grill",
   "metadata": {},
   "outputs": [],
   "source": []
  },
  {
   "cell_type": "code",
   "execution_count": null,
   "id": "blessed-southwest",
   "metadata": {},
   "outputs": [],
   "source": []
  }
 ],
 "metadata": {
  "kernelspec": {
   "display_name": "Python 3",
   "language": "python",
   "name": "python3"
  },
  "language_info": {
   "codemirror_mode": {
    "name": "ipython",
    "version": 3
   },
   "file_extension": ".py",
   "mimetype": "text/x-python",
   "name": "python",
   "nbconvert_exporter": "python",
   "pygments_lexer": "ipython3",
   "version": "3.8.5"
  }
 },
 "nbformat": 4,
 "nbformat_minor": 5
}
